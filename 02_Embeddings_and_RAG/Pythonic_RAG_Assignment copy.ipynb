{
  "cells": [
    {
      "cell_type": "markdown",
      "metadata": {
        "id": "lElF3o5PR6ys"
      },
      "source": [
        "# Your First RAG Application\n",
        "\n",
        "In this notebook, we'll walk you through each of the components that are involved in a simple RAG application.\n",
        "\n",
        "We won't be leveraging any fancy tools, just the OpenAI Python SDK, Numpy, and some classic Python.\n",
        "\n",
        "> NOTE: This was done with Python 3.11.4.\n",
        "\n",
        "> NOTE: There might be [compatibility issues](https://github.com/wandb/wandb/issues/7683) if you're on NVIDIA driver >552.44 As an interim solution - you can rollback your drivers to the 552.44."
      ]
    },
    {
      "cell_type": "markdown",
      "metadata": {
        "id": "5CtcL8P8R6yt"
      },
      "source": [
        "## Table of Contents:\n",
        "\n",
        "- Task 1: Imports and Utilities\n",
        "- Task 2: Documents\n",
        "- Task 3: Embeddings and Vectors\n",
        "- Task 4: Prompts\n",
        "- Task 5: Retrieval Augmented Generation\n",
        "  - 🚧 Activity #1: Augment RAG"
      ]
    },
    {
      "cell_type": "markdown",
      "metadata": {
        "id": "1Dz6GYilR6yt"
      },
      "source": [
        "Let's look at a rather complicated looking visual representation of a basic RAG application.\n",
        "\n",
        "<img src=\"https://i.imgur.com/vD8b016.png\" />"
      ]
    },
    {
      "cell_type": "markdown",
      "metadata": {
        "id": "PjmC0KFtR6yt"
      },
      "source": [
        "## Task 1: Imports and Utility\n",
        "\n",
        "We're just doing some imports and enabling `async` to work within the Jupyter environment here, nothing too crazy!"
      ]
    },
    {
      "cell_type": "code",
      "execution_count": 3,
      "metadata": {
        "id": "Z1dyrG4hR6yt"
      },
      "outputs": [],
      "source": [
        "from aimakerspace.text_utils import TextFileLoader, CharacterTextSplitter\n",
        "from aimakerspace.vectordatabase import VectorDatabase\n",
        "from aimakerspace.pdf_utils import PDFFileLoader\n",
        "import asyncio"
      ]
    },
    {
      "cell_type": "code",
      "execution_count": 4,
      "metadata": {
        "id": "9OrFZRnER6yt"
      },
      "outputs": [],
      "source": [
        "import nest_asyncio\n",
        "nest_asyncio.apply()"
      ]
    },
    {
      "cell_type": "markdown",
      "metadata": {
        "id": "M0jGnpQsR6yu"
      },
      "source": [
        "## Task 2: Documents\n",
        "\n",
        "We'll be concerning ourselves with this part of the flow in the following section:\n",
        "\n",
        "<img src=\"https://i.imgur.com/jTm9gjk.png\" />"
      ]
    },
    {
      "cell_type": "markdown",
      "metadata": {
        "id": "-SFPWvRUR6yu"
      },
      "source": [
        "### Loading Source Documents\n",
        "\n",
        "So, first things first, we need some documents to work with.\n",
        "\n",
        "While we could work directly with the `.txt` files (or whatever file-types you wanted to extend this to) we can instead do some batch processing of those documents at the beginning in order to store them in a more machine compatible format.\n",
        "\n",
        "In this case, we're going to parse our text file into a single document in memory.\n",
        "\n",
        "Let's look at the relevant bits of the `TextFileLoader` class:\n",
        "\n",
        "```python\n",
        "def load_file(self):\n",
        "        with open(self.path, \"r\", encoding=self.encoding) as f:\n",
        "            self.documents.append(f.read())\n",
        "```\n",
        "\n",
        "We're simply loading the document using the built in `open` method, and storing that output in our `self.documents` list.\n",
        "\n",
        "> NOTE: We're using blogs from PMarca (Marc Andreessen) as our sample data. This data is largely irrelevant as we want to focus on the mechanisms of RAG, which includes out data's shape and quality - but not specifically what the contents of the data are. \n"
      ]
    },
    {
      "cell_type": "code",
      "execution_count": 7,
      "metadata": {
        "colab": {
          "base_uri": "https://localhost:8080/"
        },
        "id": "Ia2sUEuGR6yu",
        "outputId": "84937ecc-c35f-4c4a-a4ab-9da72625954c"
      },
      "outputs": [
        {
          "data": {
            "text/plain": [
              "1"
            ]
          },
          "execution_count": 7,
          "metadata": {},
          "output_type": "execute_result"
        }
      ],
      "source": [
        "text_loader = TextFileLoader(\"data/PMarcaBlogs.txt\")\n",
        "pdf_loader = PDFFileLoader(\"data/taxes-understanding-basics.pdf\")\n",
        "#documents = text_loader.load_documents()\n",
        "#len(documents)\n",
        "pdfdocuments = pdf_loader.load_documents()\n",
        "len(pdfdocuments)"
      ]
    },
    {
      "cell_type": "code",
      "execution_count": 10,
      "metadata": {
        "colab": {
          "base_uri": "https://localhost:8080/"
        },
        "id": "bV-tj5WFR6yu",
        "outputId": "674eb315-1ff3-4597-bcf5-38ece0a812ac"
      },
      "outputs": [
        {
          "name": "stdout",
          "output_type": "stream",
          "text": [
            "\n",
            "BUILDING BLOCKS STUDENT HANDOUT\n",
            "Taxes: Understanding the basics\n",
            "What are taxes?\n",
            "Taxes are required payments of money t\n"
          ]
        }
      ],
      "source": [
        "#print(documents[0][:120])\n",
        "print(pdfdocuments[0][:120])"
      ]
    },
    {
      "cell_type": "markdown",
      "metadata": {
        "id": "nHlTvCzYR6yu"
      },
      "source": [
        "### Splitting Text Into Chunks\n",
        "\n",
        "As we can see, there is one massive document.\n",
        "\n",
        "We'll want to chunk the document into smaller parts so it's easier to pass the most relevant snippets to the LLM.\n",
        "\n",
        "There is no fixed way to split/chunk documents - and you'll need to rely on some intuition as well as knowing your data *very* well in order to build the most robust system.\n",
        "\n",
        "For this toy example, we'll just split blindly on length.\n",
        "\n",
        ">There's an opportunity to clear up some terminology here, for this course we will be stick to the following:\n",
        ">\n",
        ">- \"source documents\" : The `.txt`, `.pdf`, `.html`, ..., files that make up the files and information we start with in its raw format\n",
        ">- \"document(s)\" : single (or more) text object(s)\n",
        ">- \"corpus\" : the combination of all of our documents"
      ]
    },
    {
      "cell_type": "markdown",
      "metadata": {
        "id": "2G6Voc0jR6yv"
      },
      "source": [
        "As you can imagine (though it's not specifically true in this toy example) the idea of splitting documents is to break them into managable sized chunks that retain the most relevant local context."
      ]
    },
    {
      "cell_type": "code",
      "execution_count": 11,
      "metadata": {
        "colab": {
          "base_uri": "https://localhost:8080/"
        },
        "id": "UMC4tsEmR6yv",
        "outputId": "08689c0b-57cd-4040-942a-8193e997f5cb"
      },
      "outputs": [
        {
          "data": {
            "text/plain": [
              "11"
            ]
          },
          "execution_count": 11,
          "metadata": {},
          "output_type": "execute_result"
        }
      ],
      "source": [
        "##text_splitter = CharacterTextSplitter()\n",
        "#split_documents = text_splitter.split_texts(documents)\n",
        "#len(split_documents)\n",
        "pdf_splitter = CharacterTextSplitter()\n",
        "split_pdfdocuments = pdf_splitter.split_texts(pdfdocuments)\n",
        "len(split_pdfdocuments)"
      ]
    },
    {
      "cell_type": "markdown",
      "metadata": {
        "id": "W2wKT0WLR6yv"
      },
      "source": [
        "Let's take a look at some of the documents we've managed to split."
      ]
    },
    {
      "cell_type": "code",
      "execution_count": 12,
      "metadata": {
        "colab": {
          "base_uri": "https://localhost:8080/"
        },
        "id": "vcYMwWJoR6yv",
        "outputId": "20d69876-feca-4826-b4be-32915276987a"
      },
      "outputs": [
        {
          "data": {
            "text/plain": [
              "['\\ue401\\nBUILDING BLOCKS STUDENT HANDOUT\\nTaxes: Understanding the basics\\nWhat are taxes?\\nTaxes are required payments of money to governments, which\\nuse the funds to provide public goods and services for the\\nbenefit of the community as a whole. Understanding taxes is an\\nimportant part of managing your money, both now and in the future.\\nWhat types of taxes are there?\\nCommon types of taxes include income, payroll, sales, and property taxes.\\nIncome taxes are federal, state, and local taxes that may be collected on income,\\nboth earned (salaries, wages, tips, commissions) and unearned (interest,\\ndividends). Most of the federal government’s revenue, or money it receives,\\ncomes from income taxes. Not all states and localities have income taxes, and\\nthe government may not collect income tax if your income is below a set amount.\\nYou can change the amount of income tax you owe by claiming tax credits and\\ndeductions on your tax return:\\n§ A tax deduction is an amount (often a personal or business expense)',\n",
              " ' is below a set amount.\\nYou can change the amount of income tax you owe by claiming tax credits and\\ndeductions on your tax return:\\n§ A tax deduction is an amount (often a personal or business expense) that\\nreduces income subject to tax.\\n§ A tax credit is a dollar-for-dollar reduction in a tax. It can be deducted directly\\nfrom taxes owed. Tax credits can reduce the amount of tax you owe or increase\\nyour tax refund, and some credits may result in a refund even if you don’t owe\\nany tax. For instance, some taxpayers can claim a tax credit if they are caring for\\nchildren or other dependents, which reduces the amount of tax they owe.\\nIncome taxes are collected through withholding (or deducting) money from your\\npaycheck. Employers deduct the money and send it to the government. People\\nwho are self-employed, such as entrepreneurs or ride-share drivers, also have\\nto pay income taxes, but those taxes aren’t withheld from their earnings. Self-\\nemployed people have to pay those taxes on their own.']"
            ]
          },
          "execution_count": 12,
          "metadata": {},
          "output_type": "execute_result"
        }
      ],
      "source": [
        "split_pdfdocuments[0:2]"
      ]
    },
    {
      "cell_type": "markdown",
      "metadata": {
        "id": "HOU-RFP_R6yv"
      },
      "source": [
        "## Task 3: Embeddings and Vectors\n",
        "\n",
        "Next, we have to convert our corpus into a \"machine readable\" format as we explored in the Embedding Primer notebook.\n",
        "\n",
        "Today, we're going to talk about the actual process of creating, and then storing, these embeddings, and how we can leverage that to intelligently add context to our queries."
      ]
    },
    {
      "cell_type": "markdown",
      "metadata": {},
      "source": [
        "### OpenAI API Key\n",
        "\n",
        "In order to access OpenAI's APIs, we'll need to provide our OpenAI API Key!\n",
        "\n",
        "You can work through the folder \"OpenAI API Key Setup\" for more information on this process if you don't already have an API Key!"
      ]
    },
    {
      "cell_type": "code",
      "execution_count": 13,
      "metadata": {},
      "outputs": [],
      "source": [
        "import os\n",
        "import openai\n",
        "from getpass import getpass\n",
        "\n",
        "openai.api_key = getpass(\"OpenAI API Key: \")\n",
        "os.environ[\"OPENAI_API_KEY\"] = openai.api_key"
      ]
    },
    {
      "cell_type": "markdown",
      "metadata": {},
      "source": [
        "### Vector Database\n",
        "\n",
        "Let's set up our vector database to hold all our documents and their embeddings!"
      ]
    },
    {
      "cell_type": "markdown",
      "metadata": {
        "id": "kDQrfAR1R6yv"
      },
      "source": [
        "While this is all baked into 1 call - we can look at some of the code that powers this process to get a better understanding:\n",
        "\n",
        "Let's look at our `VectorDatabase().__init__()`:\n",
        "\n",
        "```python\n",
        "def __init__(self, embedding_model: EmbeddingModel = None):\n",
        "        self.vectors = defaultdict(np.array)\n",
        "        self.embedding_model = embedding_model or EmbeddingModel()\n",
        "```\n",
        "\n",
        "As you can see - our vectors are merely stored as a dictionary of `np.array` objects.\n",
        "\n",
        "Secondly, our `VectorDatabase()` has a default `EmbeddingModel()` which is a wrapper for OpenAI's `text-embedding-3-small` model.\n",
        "\n",
        "> **Quick Info About `text-embedding-3-small`**:\n",
        "> - It has a context window of **8191** tokens\n",
        "> - It returns vectors with dimension **1536**"
      ]
    },
    {
      "cell_type": "markdown",
      "metadata": {
        "id": "L273pRdeR6yv"
      },
      "source": [
        "#### ❓Question #1:\n",
        "\n",
        "The default embedding dimension of `text-embedding-3-small` is 1536, as noted above. \n",
        "\n",
        "1. Is there any way to modify this dimension?\n",
        "\n",
        "ans: Yes, we can change the embedding dimensions lower costs, compute power,memory and storage than using smaller embeddings.Using the embedding dimension parameter when creating the embedding is the suggested approach.\n",
        "\n",
        "2. What technique does OpenAI use to achieve this?\n",
        "\n",
        "ans:Using  Dimensions parameter when creating embeddings. When done manually we need to normalize the dimensions of the embeddings.The text-embedding-3-small model supports optional dimensionality reduction by truncating the embedding vector to a lower number of dimensions (e.g., 256, 512, etc.).\n",
        "\n",
        "\n",
        "> NOTE: Check out this [API documentation](https://platform.openai.com/docs/api-reference/embeddings/create) for the answer to question #1, and [this documentation](https://platform.openai.com/docs/guides/embeddings/use-cases) for an answer to question #2!"
      ]
    },
    {
      "cell_type": "markdown",
      "metadata": {
        "id": "w5FZY7K3R6yv"
      },
      "source": [
        "We can call the `async_get_embeddings` method of our `EmbeddingModel()` on a list of `str` and receive a list of `float` back!\n",
        "\n",
        "```python\n",
        "async def async_get_embeddings(self, list_of_text: List[str]) -> List[List[float]]:\n",
        "        return await aget_embeddings(\n",
        "            list_of_text=list_of_text, engine=self.embeddings_model_name\n",
        "        )\n",
        "```"
      ]
    },
    {
      "cell_type": "markdown",
      "metadata": {
        "id": "cSct6X0aR6yv"
      },
      "source": [
        "We cast those to `np.array` when we build our `VectorDatabase()`:\n",
        "\n",
        "```python\n",
        "async def abuild_from_list(self, list_of_text: List[str]) -> \"VectorDatabase\":\n",
        "        embeddings = await self.embedding_model.async_get_embeddings(list_of_text)\n",
        "        for text, embedding in zip(list_of_text, embeddings):\n",
        "            self.insert(text, np.array(embedding))\n",
        "        return self\n",
        "```\n",
        "\n",
        "And that's all we need to do!"
      ]
    },
    {
      "cell_type": "code",
      "execution_count": 14,
      "metadata": {
        "id": "O4KoLbVDR6yv"
      },
      "outputs": [],
      "source": [
        "vector_db = VectorDatabase()\n",
        "#vector_db = asyncio.run(vector_db.abuild_from_list(split_documents))\n",
        "vector_db = asyncio.run(vector_db.abuild_from_list(split_pdfdocuments))"
      ]
    },
    {
      "cell_type": "markdown",
      "metadata": {
        "id": "SSZwaGvpR6yv"
      },
      "source": [
        "#### ❓Question #2:\n",
        "\n",
        "What are the benefits of using an `async` approach to collecting our embeddings?\n",
        "\n",
        "ans : \n",
        "1. Concurrent requests can be sent to the API at once and handle them as they return withour blocking or waiting in line\n",
        "2.Allows parallel request\n",
        "3. Lower compute resources  - lower memory/CPU usage compared to creating new threads for each request. Allows more tasks with fewer threads\n",
        "4. Handles rate limit API's better\n",
        "\n",
        "> NOTE: Determining the core difference between `async` and `sync` will be useful! If you get stuck - ask ChatGPT!"
      ]
    },
    {
      "cell_type": "markdown",
      "metadata": {
        "id": "nRBdIt-xR6yw"
      },
      "source": [
        "So, to review what we've done so far in natural language:\n",
        "\n",
        "1. We load source documents\n",
        "2. We split those source documents into smaller chunks (documents)\n",
        "3. We send each of those documents to the `text-embedding-3-small` OpenAI API endpoint\n",
        "4. We store each of the text representations with the vector representations as keys/values in a dictionary"
      ]
    },
    {
      "cell_type": "markdown",
      "metadata": {
        "id": "4-vWANZyR6yw"
      },
      "source": [
        "### Semantic Similarity\n",
        "\n",
        "The next step is to be able to query our `VectorDatabase()` with a `str` and have it return to us vectors and text that is most relevant from our corpus.\n",
        "\n",
        "We're going to use the following process to achieve this in our toy example:\n",
        "\n",
        "1. We need to embed our query with the same `EmbeddingModel()` as we used to construct our `VectorDatabase()`\n",
        "2. We loop through every vector in our `VectorDatabase()` and use a distance measure to compare how related they are\n",
        "3. We return a list of the top `k` closest vectors, with their text representations\n",
        "\n",
        "There's some very heavy optimization that can be done at each of these steps - but let's just focus on the basic pattern in this notebook.\n",
        "\n",
        "> We are using [cosine similarity](https://www.engati.com/glossary/cosine-similarity) as a distance metric in this example - but there are many many distance metrics you could use - like [these](https://flavien-vidal.medium.com/similarity-distances-for-natural-language-processing-16f63cd5ba55)\n",
        "\n",
        "> We are using a rather inefficient way of calculating relative distance between the query vector and all other vectors - there are more advanced approaches that are much more efficient, like [ANN](https://towardsdatascience.com/comprehensive-guide-to-approximate-nearest-neighbors-algorithms-8b94f057d6b6)"
      ]
    },
    {
      "cell_type": "code",
      "execution_count": 15,
      "metadata": {
        "colab": {
          "base_uri": "https://localhost:8080/"
        },
        "id": "76d96uavR6yw",
        "outputId": "bbfccc31-20a2-41c7-c14d-46554a43ed2d"
      },
      "outputs": [
        {
          "data": {
            "text/plain": [
              "[('\\ue401\\nBUILDING BLOCKS STUDENT HANDOUT\\nTaxes: Understanding the basics\\nWhat are taxes?\\nTaxes are required payments of money to governments, which\\nuse the funds to provide public goods and services for the\\nbenefit of the community as a whole. Understanding taxes is an\\nimportant part of managing your money, both now and in the future.\\nWhat types of taxes are there?\\nCommon types of taxes include income, payroll, sales, and property taxes.\\nIncome taxes are federal, state, and local taxes that may be collected on income,\\nboth earned (salaries, wages, tips, commissions) and unearned (interest,\\ndividends). Most of the federal government’s revenue, or money it receives,\\ncomes from income taxes. Not all states and localities have income taxes, and\\nthe government may not collect income tax if your income is below a set amount.\\nYou can change the amount of income tax you owe by claiming tax credits and\\ndeductions on your tax return:\\n§ A tax deduction is an amount (often a personal or business expense)',\n",
              "  np.float64(0.5861275576252537)),\n",
              " ('operty taxes — to pay for state and local\\npublic programs.\\nProperty taxes are paid on property such as real estate, boats, automobiles,\\nand recreational vehicles.\\nEstate taxes and tariffs are helpful to know about. An estate tax is a tax on the\\nvalue of property someone owns at their death. This tax is paid only when an\\nestate is worth more than a certain amount. Only a few individuals pay this tax after\\napplying exemptions and other forms of tax credits. A tariff is a tax on products\\nimported from foreign countries. Tariffs can increase the costs of products that\\nare taxed, which ultimately can be passed on to consumers as higher prices.\\nTaxes also can be progressive or regressive. A progressive tax takes a larger\\npercentage of income from high-income groups than from low-income groups\\nand is based on the concept of ability to pay. A progressive tax system might, for\\nexample, tax low-income taxpayers at 10 percent, middle-income taxpayers at\\n15 percent, and high-income taxpayers at 30',\n",
              "  np.float64(0.5345946565736485)),\n",
              " ('t kidney failure\\nrequiring dialysis or a transplant.\\nOther federal taxes: Income taxes and tariffs are two other types of federal taxes.\\nState taxes Local taxes\\nStates use taxes to provide services Local governments (such as counties,\\nsuch as police, road and bridge cities, and towns) use taxes to\\nconstruction and maintenance, social provide services such as police and\\nprograms for the poor and elderly, fire protection, road and bridge\\nand support for local public-school construction and maintenance, and\\ndistricts. social programs for the poor and\\nelderly. Local taxes also are the primary\\nTaxes vary depending on the state.\\nsource of funds for public schools.\\nMost states have an income tax. Some\\nstates do not. Many states have sales Taxes vary depending on the local\\ntaxes, and some have property taxes. government. A few local governments\\nState property taxes are collected on have an income tax. Many use sales\\nitems such as cars and boats. Some taxes, and some use property taxes.\\nstates ',\n",
              "  np.float64(0.5277492219664377))]"
            ]
          },
          "execution_count": 15,
          "metadata": {},
          "output_type": "execute_result"
        }
      ],
      "source": [
        "vector_db.search_by_text(\"What are taxes?\", k=3)"
      ]
    },
    {
      "cell_type": "markdown",
      "metadata": {
        "id": "TehsfIiKR6yw"
      },
      "source": [
        "## Task 4: Prompts\n",
        "\n",
        "In the following section, we'll be looking at the role of prompts - and how they help us to guide our application in the right direction.\n",
        "\n",
        "In this notebook, we're going to rely on the idea of \"zero-shot in-context learning\".\n",
        "\n",
        "This is a lot of words to say: \"We will ask it to perform our desired task in the prompt, and provide no examples.\""
      ]
    },
    {
      "cell_type": "markdown",
      "metadata": {
        "id": "yXpA0UveR6yw"
      },
      "source": [
        "### XYZRolePrompt\n",
        "\n",
        "Before we do that, let's stop and think a bit about how OpenAI's chat models work.\n",
        "\n",
        "We know they have roles - as is indicated in the following API [documentation](https://platform.openai.com/docs/api-reference/chat/create#chat/create-messages)\n",
        "\n",
        "There are three roles, and they function as follows (taken directly from [OpenAI](https://platform.openai.com/docs/guides/gpt/chat-completions-api)):\n",
        "\n",
        "- `{\"role\" : \"system\"}` : The system message helps set the behavior of the assistant. For example, you can modify the personality of the assistant or provide specific instructions about how it should behave throughout the conversation. However note that the system message is optional and the model’s behavior without a system message is likely to be similar to using a generic message such as \"You are a helpful assistant.\"\n",
        "- `{\"role\" : \"user\"}` : The user messages provide requests or comments for the assistant to respond to.\n",
        "- `{\"role\" : \"assistant\"}` : Assistant messages store previous assistant responses, but can also be written by you to give examples of desired behavior.\n",
        "\n",
        "The main idea is this:\n",
        "\n",
        "1. You start with a system message that outlines how the LLM should respond, what kind of behaviours you can expect from it, and more\n",
        "2. Then, you can provide a few examples in the form of \"assistant\"/\"user\" pairs\n",
        "3. Then, you prompt the model with the true \"user\" message.\n",
        "\n",
        "In this example, we'll be forgoing the 2nd step for simplicities sake."
      ]
    },
    {
      "cell_type": "markdown",
      "metadata": {
        "id": "gdZ2KWKSR6yw"
      },
      "source": [
        "#### Utility Functions\n",
        "\n",
        "You'll notice that we're using some utility functions from the `aimakerspace` module - let's take a peek at these and see what they're doing!"
      ]
    },
    {
      "cell_type": "markdown",
      "metadata": {
        "id": "GFbeJDDsR6yw"
      },
      "source": [
        "##### XYZRolePrompt"
      ]
    },
    {
      "cell_type": "markdown",
      "metadata": {
        "id": "5mojJSE3R6yw"
      },
      "source": [
        "Here we have our `system`, `user`, and `assistant` role prompts.\n",
        "\n",
        "Let's take a peek at what they look like:\n",
        "\n",
        "```python\n",
        "class BasePrompt:\n",
        "    def __init__(self, prompt):\n",
        "        \"\"\"\n",
        "        Initializes the BasePrompt object with a prompt template.\n",
        "\n",
        "        :param prompt: A string that can contain placeholders within curly braces\n",
        "        \"\"\"\n",
        "        self.prompt = prompt\n",
        "        self._pattern = re.compile(r\"\\{([^}]+)\\}\")\n",
        "\n",
        "    def format_prompt(self, **kwargs):\n",
        "        \"\"\"\n",
        "        Formats the prompt string using the keyword arguments provided.\n",
        "\n",
        "        :param kwargs: The values to substitute into the prompt string\n",
        "        :return: The formatted prompt string\n",
        "        \"\"\"\n",
        "        matches = self._pattern.findall(self.prompt)\n",
        "        return self.prompt.format(**{match: kwargs.get(match, \"\") for match in matches})\n",
        "\n",
        "    def get_input_variables(self):\n",
        "        \"\"\"\n",
        "        Gets the list of input variable names from the prompt string.\n",
        "\n",
        "        :return: List of input variable names\n",
        "        \"\"\"\n",
        "        return self._pattern.findall(self.prompt)\n",
        "```\n",
        "\n",
        "Then we have our `RolePrompt` which laser focuses us on the role pattern found in most API endpoints for LLMs.\n",
        "\n",
        "```python\n",
        "class RolePrompt(BasePrompt):\n",
        "    def __init__(self, prompt, role: str):\n",
        "        \"\"\"\n",
        "        Initializes the RolePrompt object with a prompt template and a role.\n",
        "\n",
        "        :param prompt: A string that can contain placeholders within curly braces\n",
        "        :param role: The role for the message ('system', 'user', or 'assistant')\n",
        "        \"\"\"\n",
        "        super().__init__(prompt)\n",
        "        self.role = role\n",
        "\n",
        "    def create_message(self, **kwargs):\n",
        "        \"\"\"\n",
        "        Creates a message dictionary with a role and a formatted message.\n",
        "\n",
        "        :param kwargs: The values to substitute into the prompt string\n",
        "        :return: Dictionary containing the role and the formatted message\n",
        "        \"\"\"\n",
        "        return {\"role\": self.role, \"content\": self.format_prompt(**kwargs)}\n",
        "```\n",
        "\n",
        "We'll look at how the `SystemRolePrompt` is constructed to get a better idea of how that extension works:\n",
        "\n",
        "```python\n",
        "class SystemRolePrompt(RolePrompt):\n",
        "    def __init__(self, prompt: str):\n",
        "        super().__init__(prompt, \"system\")\n",
        "```\n",
        "\n",
        "That pattern is repeated for our `UserRolePrompt` and our `AssistantRolePrompt` as well."
      ]
    },
    {
      "cell_type": "markdown",
      "metadata": {
        "id": "D361R6sMR6yw"
      },
      "source": [
        "##### ChatOpenAI"
      ]
    },
    {
      "cell_type": "markdown",
      "metadata": {
        "id": "HJVQ2Pm8R6yw"
      },
      "source": [
        "Next we have our model, which is converted to a format analagous to libraries like LangChain and LlamaIndex.\n",
        "\n",
        "Let's take a peek at how that is constructed:\n",
        "\n",
        "```python\n",
        "class ChatOpenAI:\n",
        "    def __init__(self, model_name: str = \"gpt-4o-mini\"):\n",
        "        self.model_name = model_name\n",
        "        self.openai_api_key = os.getenv(\"OPENAI_API_KEY\")\n",
        "        if self.openai_api_key is None:\n",
        "            raise ValueError(\"OPENAI_API_KEY is not set\")\n",
        "\n",
        "    def run(self, messages, text_only: bool = True):\n",
        "        if not isinstance(messages, list):\n",
        "            raise ValueError(\"messages must be a list\")\n",
        "\n",
        "        openai.api_key = self.openai_api_key\n",
        "        response = openai.ChatCompletion.create(\n",
        "            model=self.model_name, messages=messages\n",
        "        )\n",
        "\n",
        "        if text_only:\n",
        "            return response.choices[0].message.content\n",
        "\n",
        "        return response\n",
        "```"
      ]
    },
    {
      "cell_type": "markdown",
      "metadata": {
        "id": "qCU7FfhIR6yw"
      },
      "source": [
        "#### ❓ Question #3:\n",
        "\n",
        "When calling the OpenAI API - are there any ways we can achieve more reproducible outputs?\n",
        "ans : Some of the options are\n",
        "1. We can provide instructions to the prompts with different levels of authority\n",
        "2. Choosing the right model - Reasoning model for CoT to analyze input prompt, GPT models to accomplish tasks\n",
        "3. Setting parameters like Temperature = 0 for less randomness in output , top_p = 1.0 for more consistency\n",
        "4. Prompts should be structured consistently with clear , system,user and assistant roles.\n",
        "\n",
        "> NOTE: Check out [this section](https://platform.openai.com/docs/guides/text-generation/) of the OpenAI documentation for the answer!"
      ]
    },
    {
      "cell_type": "markdown",
      "metadata": {
        "id": "c5wcjMLCR6yw"
      },
      "source": [
        "### Creating and Prompting OpenAI's `gpt-4o-mini`!\n",
        "\n",
        "Let's tie all these together and use it to prompt `gpt-4o-mini`!"
      ]
    },
    {
      "cell_type": "code",
      "execution_count": 22,
      "metadata": {
        "id": "WIfpIot7R6yw"
      },
      "outputs": [],
      "source": [
        "from aimakerspace.openai_utils.prompts import (\n",
        "    UserRolePrompt,\n",
        "    SystemRolePrompt,\n",
        "    AssistantRolePrompt,\n",
        ")\n",
        "\n",
        "from aimakerspace.openai_utils.chatmodel import ChatOpenAI\n",
        "\n",
        "chat_openai = ChatOpenAI()\n",
        "user_prompt_template = \"{content}\"\n",
        "user_role_prompt = UserRolePrompt(user_prompt_template)\n",
        "system_prompt_template = (\n",
        "    \"You are an expert in {expertise}, you always answer in a kind way.\"\n",
        ")\n",
        "system_role_prompt = SystemRolePrompt(system_prompt_template)\n",
        "\n",
        "messages = [\n",
        "    system_role_prompt.create_message(expertise=\"accounting\"),\n",
        "    user_role_prompt.create_message(\n",
        "        content=\"What is the best way to file taxes?\"\n",
        "    ),\n",
        "]\n",
        "\n",
        "response = chat_openai.run(messages)"
      ]
    },
    {
      "cell_type": "code",
      "execution_count": 23,
      "metadata": {
        "colab": {
          "base_uri": "https://localhost:8080/"
        },
        "id": "dHo7lssNR6yw",
        "outputId": "1d3823fa-bb6b-45f6-ddba-b41686388324"
      },
      "outputs": [
        {
          "name": "stdout",
          "output_type": "stream",
          "text": [
            "Filing taxes can seem daunting, but there are several effective methods to make the process smoother. Here are some tips to help you file your taxes efficiently:\n",
            "\n",
            "1. **Choose the Right Method**: You can file your taxes by hand, use tax software, or hire a tax professional. Each method has its benefits depending on your comfort level and the complexity of your tax situation.\n",
            "\n",
            "2. **Gather Your Documents**: Collect all necessary documents such as W-2s, 1099s, interest statements, and any receipts for deductions. Having everything organized will help simplify the process.\n",
            "\n",
            "3. **Know Your Deductions and Credits**: Familiarize yourself with the deductions and credits for which you may qualify. These can significantly lower your taxable income and may include items like student loan interest, medical expenses, and energy-efficient home upgrades.\n",
            "\n",
            "4. **Take Advantage of Tax Software**: If you choose to file electronically, consider using reputable tax software. Many of these programs can help guide you through the process and ensure you don’t miss any deductions or credits.\n",
            "\n",
            "5. **File Early**: Filing your taxes early can help you avoid the last-minute rush and give you time to resolve any issues that may arise. Additionally, it allows you to receive any refunds sooner.\n",
            "\n",
            "6. **Double-Check Your Work**: Review your return for accuracy before submitting it. Ensure that all calculations are correct, and that your personal information is accurate.\n",
            "\n",
            "7. **Consider e-Filing**: E-filing is generally faster and more secure than paper filing, with the added benefit of quicker refunds if you're owed money.\n",
            "\n",
            "8. **Don’t Forget State Taxes**: If you live in a state that requires income tax, be sure to check your state’s requirements and file those taxes in addition to your federal return.\n",
            "\n",
            "9. **Keep Records**: After filing, keep copies of your tax returns and supporting documents in a safe place for at least three years in case of an audit.\n",
            "\n",
            "If you are unsure about any aspect of filing your taxes, consulting with a tax professional can provide peace of mind and ensure that you navigate the process correctly. Feel free to ask if you have more specific questions or need further assistance!\n"
          ]
        }
      ],
      "source": [
        "print(response)"
      ]
    },
    {
      "cell_type": "markdown",
      "metadata": {
        "id": "r2nxxhB2R6yy"
      },
      "source": [
        "## Task 5: Retrieval Augmented Generation\n",
        "\n",
        "Now we can create a RAG prompt - which will help our system behave in a way that makes sense!\n",
        "\n",
        "There is much you could do here, many tweaks and improvements to be made!"
      ]
    },
    {
      "cell_type": "code",
      "execution_count": 24,
      "metadata": {
        "id": "D1hamzGaR6yy"
      },
      "outputs": [],
      "source": [
        "RAG_PROMPT_TEMPLATE = \"\"\" \\\n",
        "Use the provided context to answer the user's query.\n",
        "\n",
        "You may not answer the user's query unless there is specific context in the following text.\n",
        "\n",
        "If you do not know the answer, or cannot answer, please respond with \"I don't know\".\n",
        "\"\"\"\n",
        "\n",
        "rag_prompt = SystemRolePrompt(RAG_PROMPT_TEMPLATE)\n",
        "\n",
        "USER_PROMPT_TEMPLATE = \"\"\" \\\n",
        "Context:\n",
        "{context}\n",
        "\n",
        "User Query:\n",
        "{user_query}\n",
        "\"\"\"\n",
        "\n",
        "\n",
        "user_prompt = UserRolePrompt(USER_PROMPT_TEMPLATE)\n",
        "\n",
        "class RetrievalAugmentedQAPipeline:\n",
        "    def __init__(self, llm: ChatOpenAI(), vector_db_retriever: VectorDatabase) -> None:\n",
        "        self.llm = llm\n",
        "        self.vector_db_retriever = vector_db_retriever\n",
        "\n",
        "    def run_pipeline(self, user_query: str) -> str:\n",
        "        context_list = self.vector_db_retriever.search_by_text(user_query, k=4)\n",
        "\n",
        "        context_prompt = \"\"\n",
        "        for context in context_list:\n",
        "            context_prompt += context[0] + \"\\n\"\n",
        "\n",
        "        formatted_system_prompt = rag_prompt.create_message()\n",
        "\n",
        "        formatted_user_prompt = user_prompt.create_message(user_query=user_query, context=context_prompt)\n",
        "\n",
        "        return {\"response\" : self.llm.run([formatted_system_prompt, formatted_user_prompt]), \"context\" : context_list}"
      ]
    },
    {
      "cell_type": "markdown",
      "metadata": {
        "id": "zZIJI19uR6yz"
      },
      "source": [
        "#### ❓ Question #4:\n",
        "\n",
        "What prompting strategies could you use to make the LLM have a more thoughtful, detailed response?\n",
        "\n",
        "What is that strategy called?\n",
        "\n",
        "ans : Some of the prompting strategies that can be used are\n",
        "\n",
        "1. Chain of thought prompting to explain the reasoning step by step before answering . Mainly used for math problems , critical analysis and logical reasoning\n",
        "2. Few shot prompting - provide examples of input and response so the mode able to draw references while answering responses.\n",
        "\n",
        "> NOTE: You can look through [\"Accessing GPT-3.5-turbo Like a Developer\"](https://colab.research.google.com/drive/1mOzbgf4a2SP5qQj33ZxTz2a01-5eXqk2?usp=sharing) for an answer to this question if you get stuck!"
      ]
    },
    {
      "cell_type": "code",
      "execution_count": 20,
      "metadata": {
        "id": "kqbE9fZ6R6yz"
      },
      "outputs": [],
      "source": [
        "retrieval_augmented_qa_pipeline = RetrievalAugmentedQAPipeline(\n",
        "    vector_db_retriever=vector_db,\n",
        "    llm=chat_openai\n",
        ")"
      ]
    },
    {
      "cell_type": "code",
      "execution_count": 21,
      "metadata": {
        "colab": {
          "base_uri": "https://localhost:8080/"
        },
        "id": "jAGhaCGOR6yz",
        "outputId": "e4fb3a1b-d2bc-4e18-ec31-dc0adf767163"
      },
      "outputs": [
        {
          "data": {
            "text/plain": [
              "{'response': 'Taxes are required payments of money to governments, which use the funds to provide public goods and services for the benefit of the community as a whole. Understanding taxes is an important part of managing your money, both now and in the future.',\n",
              " 'context': [('\\ue401\\nBUILDING BLOCKS STUDENT HANDOUT\\nTaxes: Understanding the basics\\nWhat are taxes?\\nTaxes are required payments of money to governments, which\\nuse the funds to provide public goods and services for the\\nbenefit of the community as a whole. Understanding taxes is an\\nimportant part of managing your money, both now and in the future.\\nWhat types of taxes are there?\\nCommon types of taxes include income, payroll, sales, and property taxes.\\nIncome taxes are federal, state, and local taxes that may be collected on income,\\nboth earned (salaries, wages, tips, commissions) and unearned (interest,\\ndividends). Most of the federal government’s revenue, or money it receives,\\ncomes from income taxes. Not all states and localities have income taxes, and\\nthe government may not collect income tax if your income is below a set amount.\\nYou can change the amount of income tax you owe by claiming tax credits and\\ndeductions on your tax return:\\n§ A tax deduction is an amount (often a personal or business expense)',\n",
              "   np.float64(0.5865777329418866)),\n",
              "  ('t kidney failure\\nrequiring dialysis or a transplant.\\nOther federal taxes: Income taxes and tariffs are two other types of federal taxes.\\nState taxes Local taxes\\nStates use taxes to provide services Local governments (such as counties,\\nsuch as police, road and bridge cities, and towns) use taxes to\\nconstruction and maintenance, social provide services such as police and\\nprograms for the poor and elderly, fire protection, road and bridge\\nand support for local public-school construction and maintenance, and\\ndistricts. social programs for the poor and\\nelderly. Local taxes also are the primary\\nTaxes vary depending on the state.\\nsource of funds for public schools.\\nMost states have an income tax. Some\\nstates do not. Many states have sales Taxes vary depending on the local\\ntaxes, and some have property taxes. government. A few local governments\\nState property taxes are collected on have an income tax. Many use sales\\nitems such as cars and boats. Some taxes, and some use property taxes.\\nstates ',\n",
              "   np.float64(0.5322643451041985)),\n",
              "  ('operty taxes — to pay for state and local\\npublic programs.\\nProperty taxes are paid on property such as real estate, boats, automobiles,\\nand recreational vehicles.\\nEstate taxes and tariffs are helpful to know about. An estate tax is a tax on the\\nvalue of property someone owns at their death. This tax is paid only when an\\nestate is worth more than a certain amount. Only a few individuals pay this tax after\\napplying exemptions and other forms of tax credits. A tariff is a tax on products\\nimported from foreign countries. Tariffs can increase the costs of products that\\nare taxed, which ultimately can be passed on to consumers as higher prices.\\nTaxes also can be progressive or regressive. A progressive tax takes a larger\\npercentage of income from high-income groups than from low-income groups\\nand is based on the concept of ability to pay. A progressive tax system might, for\\nexample, tax low-income taxpayers at 10 percent, middle-income taxpayers at\\n15 percent, and high-income taxpayers at 30',\n",
              "   np.float64(0.5289522133538374)),\n",
              "  ('perty taxes. government. A few local governments\\nState property taxes are collected on have an income tax. Many use sales\\nitems such as cars and boats. Some taxes, and some use property taxes.\\nstates don’t require certain individuals Local property taxes are collected on\\nto pay income taxes or sales taxes. items such as houses and condominiums.\\nBUILDING BLOCKS STUDENT HANDOUT 3 of 4\\nTaxes: Understanding the basics Fall 2022\\nWhat are some helpful things to know about filing\\nincome taxes?\\nPeople who work for an employer or work for themselves likely have to file a tax\\nreturn. Employers report the taxes they withhold (income, Social Security, and\\nMedicare taxes) on Form W-2. Employees use the information on Form W-2\\nto complete their individual income tax returns. All wages, salaries, bonuses,\\ncommissions, and tips are taxable, even if they are not reported on Form W-2.\\nSelf-employed workers don’t receive a W-2. Some self-employed people complete\\nwork for a company or individual and are c',\n",
              "   np.float64(0.5042627338295252))]}"
            ]
          },
          "execution_count": 21,
          "metadata": {},
          "output_type": "execute_result"
        }
      ],
      "source": [
        "retrieval_augmented_qa_pipeline.run_pipeline(\"What are taxes'?\")"
      ]
    },
    {
      "cell_type": "markdown",
      "metadata": {},
      "source": [
        "### 🏗️ Activity #1:\n",
        "\n",
        "Enhance your RAG application in some way! \n",
        "\n",
        "Suggestions are: \n",
        "\n",
        "- Allow it to work with PDF files\n",
        "- Implement a new distance metric\n",
        "- Add metadata support to the vector database\n",
        "\n",
        "While these are suggestions, you should feel free to make whatever augmentations you desire! \n",
        "\n",
        "> NOTE: These additions might require you to work within the `aimakerspace` library - that's expected!"
      ]
    },
    {
      "cell_type": "code",
      "execution_count": 25,
      "metadata": {},
      "outputs": [],
      "source": [
        "### Allow RAG application to work with PDF files\n",
        "### Imports &  utilities\n",
        "from aimakerspace.vectordatabase import VectorDatabase\n",
        "from aimakerspace.pdf_utils import PDFFileLoader\n",
        "import asyncio\n"
      ]
    },
    {
      "cell_type": "code",
      "execution_count": 26,
      "metadata": {},
      "outputs": [],
      "source": [
        "import nest_asyncio\n",
        "nest_asyncio.apply()"
      ]
    },
    {
      "cell_type": "code",
      "execution_count": 27,
      "metadata": {},
      "outputs": [
        {
          "data": {
            "text/plain": [
              "1"
            ]
          },
          "execution_count": 27,
          "metadata": {},
          "output_type": "execute_result"
        }
      ],
      "source": [
        "#load Documents\n",
        "pdf_loader = PDFFileLoader(\"data/taxes-understanding-basics.pdf\")\n",
        "pdfdocuments = pdf_loader.load_documents()\n",
        "len(pdfdocuments)"
      ]
    },
    {
      "cell_type": "code",
      "execution_count": 28,
      "metadata": {},
      "outputs": [
        {
          "name": "stdout",
          "output_type": "stream",
          "text": [
            "\n",
            "BUILDING BLOCKS STUDENT HANDOUT\n",
            "Taxes: Understanding the basics\n",
            "What are taxes?\n",
            "Taxes are required payments of money t\n"
          ]
        }
      ],
      "source": [
        "print(pdfdocuments[0][:120])"
      ]
    },
    {
      "cell_type": "code",
      "execution_count": 29,
      "metadata": {},
      "outputs": [
        {
          "data": {
            "text/plain": [
              "11"
            ]
          },
          "execution_count": 29,
          "metadata": {},
          "output_type": "execute_result"
        }
      ],
      "source": [
        "#splitting documents\n",
        "pdf_splitter = CharacterTextSplitter()\n",
        "split_pdfdocuments = pdf_splitter.split_texts(pdfdocuments)\n",
        "len(split_pdfdocuments)"
      ]
    },
    {
      "cell_type": "code",
      "execution_count": 30,
      "metadata": {},
      "outputs": [
        {
          "data": {
            "text/plain": [
              "['\\ue401\\nBUILDING BLOCKS STUDENT HANDOUT\\nTaxes: Understanding the basics\\nWhat are taxes?\\nTaxes are required payments of money to governments, which\\nuse the funds to provide public goods and services for the\\nbenefit of the community as a whole. Understanding taxes is an\\nimportant part of managing your money, both now and in the future.\\nWhat types of taxes are there?\\nCommon types of taxes include income, payroll, sales, and property taxes.\\nIncome taxes are federal, state, and local taxes that may be collected on income,\\nboth earned (salaries, wages, tips, commissions) and unearned (interest,\\ndividends). Most of the federal government’s revenue, or money it receives,\\ncomes from income taxes. Not all states and localities have income taxes, and\\nthe government may not collect income tax if your income is below a set amount.\\nYou can change the amount of income tax you owe by claiming tax credits and\\ndeductions on your tax return:\\n§ A tax deduction is an amount (often a personal or business expense)',\n",
              " ' is below a set amount.\\nYou can change the amount of income tax you owe by claiming tax credits and\\ndeductions on your tax return:\\n§ A tax deduction is an amount (often a personal or business expense) that\\nreduces income subject to tax.\\n§ A tax credit is a dollar-for-dollar reduction in a tax. It can be deducted directly\\nfrom taxes owed. Tax credits can reduce the amount of tax you owe or increase\\nyour tax refund, and some credits may result in a refund even if you don’t owe\\nany tax. For instance, some taxpayers can claim a tax credit if they are caring for\\nchildren or other dependents, which reduces the amount of tax they owe.\\nIncome taxes are collected through withholding (or deducting) money from your\\npaycheck. Employers deduct the money and send it to the government. People\\nwho are self-employed, such as entrepreneurs or ride-share drivers, also have\\nto pay income taxes, but those taxes aren’t withheld from their earnings. Self-\\nemployed people have to pay those taxes on their own.']"
            ]
          },
          "execution_count": 30,
          "metadata": {},
          "output_type": "execute_result"
        }
      ],
      "source": [
        "split_pdfdocuments[0:2]"
      ]
    },
    {
      "cell_type": "code",
      "execution_count": null,
      "metadata": {},
      "outputs": [],
      "source": [
        "#OpenAI API Key\n",
        "import os\n",
        "import openai\n",
        "from getpass import getpass\n",
        "\n",
        "openai.api_key = getpass(\"OpenAI API Key: \")\n",
        "os.environ[\"OPENAI_API_KEY\"] = openai.api_key"
      ]
    },
    {
      "cell_type": "code",
      "execution_count": 31,
      "metadata": {},
      "outputs": [],
      "source": [
        "#vector database\n",
        "vector_db = VectorDatabase()\n",
        "vector_db = asyncio.run(vector_db.abuild_from_list(split_pdfdocuments))"
      ]
    },
    {
      "cell_type": "code",
      "execution_count": 32,
      "metadata": {},
      "outputs": [
        {
          "data": {
            "text/plain": [
              "[('\\ue401\\nBUILDING BLOCKS STUDENT HANDOUT\\nTaxes: Understanding the basics\\nWhat are taxes?\\nTaxes are required payments of money to governments, which\\nuse the funds to provide public goods and services for the\\nbenefit of the community as a whole. Understanding taxes is an\\nimportant part of managing your money, both now and in the future.\\nWhat types of taxes are there?\\nCommon types of taxes include income, payroll, sales, and property taxes.\\nIncome taxes are federal, state, and local taxes that may be collected on income,\\nboth earned (salaries, wages, tips, commissions) and unearned (interest,\\ndividends). Most of the federal government’s revenue, or money it receives,\\ncomes from income taxes. Not all states and localities have income taxes, and\\nthe government may not collect income tax if your income is below a set amount.\\nYou can change the amount of income tax you owe by claiming tax credits and\\ndeductions on your tax return:\\n§ A tax deduction is an amount (often a personal or business expense)',\n",
              "  np.float64(0.5862007604595199)),\n",
              " ('operty taxes — to pay for state and local\\npublic programs.\\nProperty taxes are paid on property such as real estate, boats, automobiles,\\nand recreational vehicles.\\nEstate taxes and tariffs are helpful to know about. An estate tax is a tax on the\\nvalue of property someone owns at their death. This tax is paid only when an\\nestate is worth more than a certain amount. Only a few individuals pay this tax after\\napplying exemptions and other forms of tax credits. A tariff is a tax on products\\nimported from foreign countries. Tariffs can increase the costs of products that\\nare taxed, which ultimately can be passed on to consumers as higher prices.\\nTaxes also can be progressive or regressive. A progressive tax takes a larger\\npercentage of income from high-income groups than from low-income groups\\nand is based on the concept of ability to pay. A progressive tax system might, for\\nexample, tax low-income taxpayers at 10 percent, middle-income taxpayers at\\n15 percent, and high-income taxpayers at 30',\n",
              "  np.float64(0.5346577558519916)),\n",
              " ('t kidney failure\\nrequiring dialysis or a transplant.\\nOther federal taxes: Income taxes and tariffs are two other types of federal taxes.\\nState taxes Local taxes\\nStates use taxes to provide services Local governments (such as counties,\\nsuch as police, road and bridge cities, and towns) use taxes to\\nconstruction and maintenance, social provide services such as police and\\nprograms for the poor and elderly, fire protection, road and bridge\\nand support for local public-school construction and maintenance, and\\ndistricts. social programs for the poor and\\nelderly. Local taxes also are the primary\\nTaxes vary depending on the state.\\nsource of funds for public schools.\\nMost states have an income tax. Some\\nstates do not. Many states have sales Taxes vary depending on the local\\ntaxes, and some have property taxes. government. A few local governments\\nState property taxes are collected on have an income tax. Many use sales\\nitems such as cars and boats. Some taxes, and some use property taxes.\\nstates ',\n",
              "  np.float64(0.5278406162736788))]"
            ]
          },
          "execution_count": 32,
          "metadata": {},
          "output_type": "execute_result"
        }
      ],
      "source": [
        "#Semantic Search\n",
        "vector_db.search_by_text(\"What are taxes?\", k=3)"
      ]
    },
    {
      "cell_type": "code",
      "execution_count": 33,
      "metadata": {},
      "outputs": [],
      "source": [
        "#Prompts\n",
        "from aimakerspace.openai_utils.prompts import (\n",
        "    UserRolePrompt,\n",
        "    SystemRolePrompt,\n",
        "    AssistantRolePrompt,\n",
        ")\n",
        "\n",
        "from aimakerspace.openai_utils.chatmodel import ChatOpenAI\n",
        "\n",
        "chat_openai = ChatOpenAI()\n",
        "user_prompt_template = \"{content}\"\n",
        "user_role_prompt = UserRolePrompt(user_prompt_template)\n",
        "system_prompt_template = (\n",
        "    \"You are an expert in {expertise}, you always answer in a kind way.\"\n",
        ")\n",
        "system_role_prompt = SystemRolePrompt(system_prompt_template)\n",
        "\n",
        "messages = [\n",
        "    system_role_prompt.create_message(expertise=\"accounting\"),\n",
        "    user_role_prompt.create_message(\n",
        "        content=\"What is the best way to file taxes?\"\n",
        "    ),\n",
        "]\n",
        "\n",
        "response = chat_openai.run(messages)"
      ]
    },
    {
      "cell_type": "code",
      "execution_count": 34,
      "metadata": {},
      "outputs": [
        {
          "name": "stdout",
          "output_type": "stream",
          "text": [
            "Filing taxes can feel overwhelming, but with a clear plan, it can be manageable. Here are some steps you can follow to ensure you file your taxes effectively:\n",
            "\n",
            "1. **Gather Documentation**: Collect all necessary documents, such as W-2s, 1099s, receipts for deductible expenses, and any other relevant financial records.\n",
            "\n",
            "2. **Choose the Right Filing Method**:\n",
            "   - **DIY Software**: Consider tax preparation software (like TurboTax or H&R Block) if you have a straightforward tax situation. These programs guide you through the process and help maximize deductions.\n",
            "   - **Professional Assistance**: If your tax situation is complex (like business income, multiple income sources, or significant deductions), hiring a certified tax professional may be beneficial. They can provide personalized advice and ensure compliance.\n",
            "\n",
            "3. **Understand Your Deductions and Credits**: Familiarize yourself with potential tax deductions and credits that you may qualify for. This could include student loan interest deduction, mortgage interest, or eligible charitable contributions.\n",
            "\n",
            "4. **Keep Track of Deadlines**: Ensure you know the filing deadlines. For individual tax returns, it is typically April 15 (unless it falls on a weekend or holiday).\n",
            "\n",
            "5. **Double-Check Your Return**: Review your tax return carefully for mistakes or omissions before filing. Simple errors can lead to issues or delays.\n",
            "\n",
            "6. **File Electronically**: E-filing is generally faster and more secure than mailing paper returns. It also allows for quicker refunds if you are owed one.\n",
            "\n",
            "7. **Stay Organized**: After filing, keep copies of your tax return and all supporting documents in a safe place for at least three years, as you may need them for future reference or audit purposes.\n",
            "\n",
            "8. **Plan for Next Year**: After filing, consider adjusting your withholding or estimated tax payments if necessary, based on your current financial situation to avoid surprises next tax season.\n",
            "\n",
            "Remember, everyone’s tax situation is unique, so take the time to find the method that works best for you. If you have specific questions or concerns, feel free to ask!\n"
          ]
        }
      ],
      "source": [
        "print(response)"
      ]
    },
    {
      "cell_type": "markdown",
      "metadata": {},
      "source": [
        "RAG"
      ]
    },
    {
      "cell_type": "code",
      "execution_count": 35,
      "metadata": {},
      "outputs": [],
      "source": [
        "RAG_PROMPT_TEMPLATE = \"\"\" \\\n",
        "Use the provided context to answer the user's query.\n",
        "\n",
        "You may not answer the user's query unless there is specific context in the following text.\n",
        "\n",
        "If you do not know the answer, or cannot answer, please respond with \"I don't know\".\n",
        "\"\"\"\n",
        "\n",
        "rag_prompt = SystemRolePrompt(RAG_PROMPT_TEMPLATE)\n",
        "\n",
        "USER_PROMPT_TEMPLATE = \"\"\" \\\n",
        "Context:\n",
        "{context}\n",
        "\n",
        "User Query:\n",
        "{user_query}\n",
        "\"\"\"\n",
        "\n",
        "\n",
        "user_prompt = UserRolePrompt(USER_PROMPT_TEMPLATE)\n",
        "\n",
        "class RetrievalAugmentedQAPipeline:\n",
        "    def __init__(self, llm: ChatOpenAI(), vector_db_retriever: VectorDatabase) -> None:\n",
        "        self.llm = llm\n",
        "        self.vector_db_retriever = vector_db_retriever\n",
        "\n",
        "    def run_pipeline(self, user_query: str) -> str:\n",
        "        context_list = self.vector_db_retriever.search_by_text(user_query, k=4)\n",
        "\n",
        "        context_prompt = \"\"\n",
        "        for context in context_list:\n",
        "            context_prompt += context[0] + \"\\n\"\n",
        "\n",
        "        formatted_system_prompt = rag_prompt.create_message()\n",
        "\n",
        "        formatted_user_prompt = user_prompt.create_message(user_query=user_query, context=context_prompt)\n",
        "\n",
        "        return {\"response\" : self.llm.run([formatted_system_prompt, formatted_user_prompt]), \"context\" : context_list}"
      ]
    },
    {
      "cell_type": "code",
      "execution_count": 36,
      "metadata": {},
      "outputs": [],
      "source": [
        "retrieval_augmented_qa_pipeline = RetrievalAugmentedQAPipeline(\n",
        "    vector_db_retriever=vector_db,\n",
        "    llm=chat_openai\n",
        ")"
      ]
    },
    {
      "cell_type": "code",
      "execution_count": 37,
      "metadata": {},
      "outputs": [
        {
          "data": {
            "text/plain": [
              "{'response': 'Taxes are required payments of money to governments, which use the funds to provide public goods and services for the benefit of the community as a whole. Understanding taxes is an important part of managing your money, both now and in the future.',\n",
              " 'context': [('\\ue401\\nBUILDING BLOCKS STUDENT HANDOUT\\nTaxes: Understanding the basics\\nWhat are taxes?\\nTaxes are required payments of money to governments, which\\nuse the funds to provide public goods and services for the\\nbenefit of the community as a whole. Understanding taxes is an\\nimportant part of managing your money, both now and in the future.\\nWhat types of taxes are there?\\nCommon types of taxes include income, payroll, sales, and property taxes.\\nIncome taxes are federal, state, and local taxes that may be collected on income,\\nboth earned (salaries, wages, tips, commissions) and unearned (interest,\\ndividends). Most of the federal government’s revenue, or money it receives,\\ncomes from income taxes. Not all states and localities have income taxes, and\\nthe government may not collect income tax if your income is below a set amount.\\nYou can change the amount of income tax you owe by claiming tax credits and\\ndeductions on your tax return:\\n§ A tax deduction is an amount (often a personal or business expense)',\n",
              "   np.float64(0.5866115238200668)),\n",
              "  ('t kidney failure\\nrequiring dialysis or a transplant.\\nOther federal taxes: Income taxes and tariffs are two other types of federal taxes.\\nState taxes Local taxes\\nStates use taxes to provide services Local governments (such as counties,\\nsuch as police, road and bridge cities, and towns) use taxes to\\nconstruction and maintenance, social provide services such as police and\\nprograms for the poor and elderly, fire protection, road and bridge\\nand support for local public-school construction and maintenance, and\\ndistricts. social programs for the poor and\\nelderly. Local taxes also are the primary\\nTaxes vary depending on the state.\\nsource of funds for public schools.\\nMost states have an income tax. Some\\nstates do not. Many states have sales Taxes vary depending on the local\\ntaxes, and some have property taxes. government. A few local governments\\nState property taxes are collected on have an income tax. Many use sales\\nitems such as cars and boats. Some taxes, and some use property taxes.\\nstates ',\n",
              "   np.float64(0.532280770029717)),\n",
              "  ('operty taxes — to pay for state and local\\npublic programs.\\nProperty taxes are paid on property such as real estate, boats, automobiles,\\nand recreational vehicles.\\nEstate taxes and tariffs are helpful to know about. An estate tax is a tax on the\\nvalue of property someone owns at their death. This tax is paid only when an\\nestate is worth more than a certain amount. Only a few individuals pay this tax after\\napplying exemptions and other forms of tax credits. A tariff is a tax on products\\nimported from foreign countries. Tariffs can increase the costs of products that\\nare taxed, which ultimately can be passed on to consumers as higher prices.\\nTaxes also can be progressive or regressive. A progressive tax takes a larger\\npercentage of income from high-income groups than from low-income groups\\nand is based on the concept of ability to pay. A progressive tax system might, for\\nexample, tax low-income taxpayers at 10 percent, middle-income taxpayers at\\n15 percent, and high-income taxpayers at 30',\n",
              "   np.float64(0.528998476239052)),\n",
              "  ('perty taxes. government. A few local governments\\nState property taxes are collected on have an income tax. Many use sales\\nitems such as cars and boats. Some taxes, and some use property taxes.\\nstates don’t require certain individuals Local property taxes are collected on\\nto pay income taxes or sales taxes. items such as houses and condominiums.\\nBUILDING BLOCKS STUDENT HANDOUT 3 of 4\\nTaxes: Understanding the basics Fall 2022\\nWhat are some helpful things to know about filing\\nincome taxes?\\nPeople who work for an employer or work for themselves likely have to file a tax\\nreturn. Employers report the taxes they withhold (income, Social Security, and\\nMedicare taxes) on Form W-2. Employees use the information on Form W-2\\nto complete their individual income tax returns. All wages, salaries, bonuses,\\ncommissions, and tips are taxable, even if they are not reported on Form W-2.\\nSelf-employed workers don’t receive a W-2. Some self-employed people complete\\nwork for a company or individual and are c',\n",
              "   np.float64(0.5042996478294227))]}"
            ]
          },
          "execution_count": 37,
          "metadata": {},
          "output_type": "execute_result"
        }
      ],
      "source": [
        "retrieval_augmented_qa_pipeline.run_pipeline(\"What are taxes'?\")"
      ]
    }
  ],
  "metadata": {
    "colab": {
      "provenance": []
    },
    "kernelspec": {
      "display_name": ".venv",
      "language": "python",
      "name": "python3"
    },
    "language_info": {
      "codemirror_mode": {
        "name": "ipython",
        "version": 3
      },
      "file_extension": ".py",
      "mimetype": "text/x-python",
      "name": "python",
      "nbconvert_exporter": "python",
      "pygments_lexer": "ipython3",
      "version": "3.12.9"
    },
    "orig_nbformat": 4,
    "widgets": {
      "application/vnd.jupyter.widget-state+json": {
        "1ce393d9afcf427d9d352259c5d32678": {
          "model_module": "@jupyter-widgets/controls",
          "model_module_version": "1.5.0",
          "model_name": "FloatProgressModel",
          "state": {
            "_dom_classes": [],
            "_model_module": "@jupyter-widgets/controls",
            "_model_module_version": "1.5.0",
            "_model_name": "FloatProgressModel",
            "_view_count": null,
            "_view_module": "@jupyter-widgets/controls",
            "_view_module_version": "1.5.0",
            "_view_name": "ProgressView",
            "bar_style": "",
            "description": "",
            "description_tooltip": null,
            "layout": "IPY_MODEL_4e6efd99f7d346e485b002fb0fa85cc7",
            "max": 1,
            "min": 0,
            "orientation": "horizontal",
            "style": "IPY_MODEL_3dfb67c39958461da6071e4c19c3fa41",
            "value": 1
          }
        },
        "3a4ba348cb004f8ab7b2b1395539c81b": {
          "model_module": "@jupyter-widgets/controls",
          "model_module_version": "1.5.0",
          "model_name": "LabelModel",
          "state": {
            "_dom_classes": [],
            "_model_module": "@jupyter-widgets/controls",
            "_model_module_version": "1.5.0",
            "_model_name": "LabelModel",
            "_view_count": null,
            "_view_module": "@jupyter-widgets/controls",
            "_view_module_version": "1.5.0",
            "_view_name": "LabelView",
            "description": "",
            "description_tooltip": null,
            "layout": "IPY_MODEL_d2ea5009dd16442cb5d8a0ac468e50a8",
            "placeholder": "​",
            "style": "IPY_MODEL_5f00135fe1044051a50ee5e841cbb8e3",
            "value": "0.018 MB of 0.018 MB uploaded\r"
          }
        },
        "3dfb67c39958461da6071e4c19c3fa41": {
          "model_module": "@jupyter-widgets/controls",
          "model_module_version": "1.5.0",
          "model_name": "ProgressStyleModel",
          "state": {
            "_model_module": "@jupyter-widgets/controls",
            "_model_module_version": "1.5.0",
            "_model_name": "ProgressStyleModel",
            "_view_count": null,
            "_view_module": "@jupyter-widgets/base",
            "_view_module_version": "1.2.0",
            "_view_name": "StyleView",
            "bar_color": null,
            "description_width": ""
          }
        },
        "4e6efd99f7d346e485b002fb0fa85cc7": {
          "model_module": "@jupyter-widgets/base",
          "model_module_version": "1.2.0",
          "model_name": "LayoutModel",
          "state": {
            "_model_module": "@jupyter-widgets/base",
            "_model_module_version": "1.2.0",
            "_model_name": "LayoutModel",
            "_view_count": null,
            "_view_module": "@jupyter-widgets/base",
            "_view_module_version": "1.2.0",
            "_view_name": "LayoutView",
            "align_content": null,
            "align_items": null,
            "align_self": null,
            "border": null,
            "bottom": null,
            "display": null,
            "flex": null,
            "flex_flow": null,
            "grid_area": null,
            "grid_auto_columns": null,
            "grid_auto_flow": null,
            "grid_auto_rows": null,
            "grid_column": null,
            "grid_gap": null,
            "grid_row": null,
            "grid_template_areas": null,
            "grid_template_columns": null,
            "grid_template_rows": null,
            "height": null,
            "justify_content": null,
            "justify_items": null,
            "left": null,
            "margin": null,
            "max_height": null,
            "max_width": null,
            "min_height": null,
            "min_width": null,
            "object_fit": null,
            "object_position": null,
            "order": null,
            "overflow": null,
            "overflow_x": null,
            "overflow_y": null,
            "padding": null,
            "right": null,
            "top": null,
            "visibility": null,
            "width": null
          }
        },
        "56a8e24025594e5e9ff3b8581c344691": {
          "model_module": "@jupyter-widgets/base",
          "model_module_version": "1.2.0",
          "model_name": "LayoutModel",
          "state": {
            "_model_module": "@jupyter-widgets/base",
            "_model_module_version": "1.2.0",
            "_model_name": "LayoutModel",
            "_view_count": null,
            "_view_module": "@jupyter-widgets/base",
            "_view_module_version": "1.2.0",
            "_view_name": "LayoutView",
            "align_content": null,
            "align_items": null,
            "align_self": null,
            "border": null,
            "bottom": null,
            "display": null,
            "flex": null,
            "flex_flow": null,
            "grid_area": null,
            "grid_auto_columns": null,
            "grid_auto_flow": null,
            "grid_auto_rows": null,
            "grid_column": null,
            "grid_gap": null,
            "grid_row": null,
            "grid_template_areas": null,
            "grid_template_columns": null,
            "grid_template_rows": null,
            "height": null,
            "justify_content": null,
            "justify_items": null,
            "left": null,
            "margin": null,
            "max_height": null,
            "max_width": null,
            "min_height": null,
            "min_width": null,
            "object_fit": null,
            "object_position": null,
            "order": null,
            "overflow": null,
            "overflow_x": null,
            "overflow_y": null,
            "padding": null,
            "right": null,
            "top": null,
            "visibility": null,
            "width": null
          }
        },
        "5f00135fe1044051a50ee5e841cbb8e3": {
          "model_module": "@jupyter-widgets/controls",
          "model_module_version": "1.5.0",
          "model_name": "DescriptionStyleModel",
          "state": {
            "_model_module": "@jupyter-widgets/controls",
            "_model_module_version": "1.5.0",
            "_model_name": "DescriptionStyleModel",
            "_view_count": null,
            "_view_module": "@jupyter-widgets/base",
            "_view_module_version": "1.2.0",
            "_view_name": "StyleView",
            "description_width": ""
          }
        },
        "bb904e05ece143c79ecc4f20de482f45": {
          "model_module": "@jupyter-widgets/controls",
          "model_module_version": "1.5.0",
          "model_name": "VBoxModel",
          "state": {
            "_dom_classes": [],
            "_model_module": "@jupyter-widgets/controls",
            "_model_module_version": "1.5.0",
            "_model_name": "VBoxModel",
            "_view_count": null,
            "_view_module": "@jupyter-widgets/controls",
            "_view_module_version": "1.5.0",
            "_view_name": "VBoxView",
            "box_style": "",
            "children": [
              "IPY_MODEL_3a4ba348cb004f8ab7b2b1395539c81b",
              "IPY_MODEL_1ce393d9afcf427d9d352259c5d32678"
            ],
            "layout": "IPY_MODEL_56a8e24025594e5e9ff3b8581c344691"
          }
        },
        "d2ea5009dd16442cb5d8a0ac468e50a8": {
          "model_module": "@jupyter-widgets/base",
          "model_module_version": "1.2.0",
          "model_name": "LayoutModel",
          "state": {
            "_model_module": "@jupyter-widgets/base",
            "_model_module_version": "1.2.0",
            "_model_name": "LayoutModel",
            "_view_count": null,
            "_view_module": "@jupyter-widgets/base",
            "_view_module_version": "1.2.0",
            "_view_name": "LayoutView",
            "align_content": null,
            "align_items": null,
            "align_self": null,
            "border": null,
            "bottom": null,
            "display": null,
            "flex": null,
            "flex_flow": null,
            "grid_area": null,
            "grid_auto_columns": null,
            "grid_auto_flow": null,
            "grid_auto_rows": null,
            "grid_column": null,
            "grid_gap": null,
            "grid_row": null,
            "grid_template_areas": null,
            "grid_template_columns": null,
            "grid_template_rows": null,
            "height": null,
            "justify_content": null,
            "justify_items": null,
            "left": null,
            "margin": null,
            "max_height": null,
            "max_width": null,
            "min_height": null,
            "min_width": null,
            "object_fit": null,
            "object_position": null,
            "order": null,
            "overflow": null,
            "overflow_x": null,
            "overflow_y": null,
            "padding": null,
            "right": null,
            "top": null,
            "visibility": null,
            "width": null
          }
        }
      }
    }
  },
  "nbformat": 4,
  "nbformat_minor": 0
}
